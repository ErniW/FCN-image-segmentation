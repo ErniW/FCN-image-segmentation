{
  "nbformat": 4,
  "nbformat_minor": 0,
  "metadata": {
    "colab": {
      "provenance": [],
      "gpuType": "T4"
    },
    "kernelspec": {
      "name": "python3",
      "display_name": "Python 3"
    },
    "language_info": {
      "name": "python"
    },
    "accelerator": "GPU",
    "gpuClass": "standard"
  },
  "cells": [
    {
      "cell_type": "markdown",
      "source": [
        "# Image segmentation using FCN-8 decoder\n",
        "\n",
        "An example of image segmentation of hand written digits using m2nist dataset."
      ],
      "metadata": {
        "id": "i226Mck7WSPC"
      }
    },
    {
      "cell_type": "code",
      "execution_count": 1,
      "metadata": {
        "id": "g9r-fO7_WH-e"
      },
      "outputs": [],
      "source": [
        "import tensorflow as tf\n",
        "import tensorflow_datasets as tfds\n",
        "\n",
        "import numpy as np\n",
        "import matplotlib.pyplot as plt\n",
        "from sklearn.model_selection import train_test_split\n",
        "\n",
        "import PIL\n",
        "import os\n",
        "import zipfile"
      ]
    },
    {
      "cell_type": "markdown",
      "source": [
        "## 1. Dataset"
      ],
      "metadata": {
        "id": "Fi6CJ4ZfXSYh"
      }
    },
    {
      "cell_type": "markdown",
      "source": [
        "### 1.1 Download and unpack the dataset"
      ],
      "metadata": {
        "id": "2VP_k8ZcdBvP"
      }
    },
    {
      "cell_type": "code",
      "source": [
        "!wget --no-check-certificate https://storage.googleapis.com/tensorflow-1-public/tensorflow-3-temp/m2nist.zip -O /tmp/m2nist.zip"
      ],
      "metadata": {
        "colab": {
          "base_uri": "https://localhost:8080/"
        },
        "id": "5K92XygJXUjO",
        "outputId": "277c844e-06d8-401b-d696-48d5efad62b5"
      },
      "execution_count": 2,
      "outputs": [
        {
          "output_type": "stream",
          "name": "stdout",
          "text": [
            "--2023-05-21 01:10:23--  https://storage.googleapis.com/tensorflow-1-public/tensorflow-3-temp/m2nist.zip\n",
            "Resolving storage.googleapis.com (storage.googleapis.com)... 172.253.117.128, 142.250.99.128, 173.194.202.128, ...\n",
            "Connecting to storage.googleapis.com (storage.googleapis.com)|172.253.117.128|:443... connected.\n",
            "HTTP request sent, awaiting response... 200 OK\n",
            "Length: 17378168 (17M) [application/zip]\n",
            "Saving to: ‘/tmp/m2nist.zip’\n",
            "\n",
            "/tmp/m2nist.zip     100%[===================>]  16.57M  84.0MB/s    in 0.2s    \n",
            "\n",
            "2023-05-21 01:10:23 (84.0 MB/s) - ‘/tmp/m2nist.zip’ saved [17378168/17378168]\n",
            "\n"
          ]
        }
      ]
    },
    {
      "cell_type": "code",
      "source": [
        "ZIP_DIR = '/tmp/m2nist.zip'\n",
        "DATASET_DIR = '/dataset'\n",
        "\n",
        "with zipfile.ZipFile(ZIP_DIR, 'r') as unpack:\n",
        "    unpack.extractall(DATASET_DIR)"
      ],
      "metadata": {
        "id": "qgXUCw10eAK3"
      },
      "execution_count": 3,
      "outputs": []
    },
    {
      "cell_type": "markdown",
      "source": [
        "### 1.2 Load dataset to notebook\n",
        "Dataset is stored as two Numpy files for images and segmentation masks.\n",
        "- **Images** 64x84 images with multiple digits.\n",
        "- **Segmentation** 64x84 images with segmentation masks for 0-9 digits and background.\n",
        "\n",
        "There are 5000 records total."
      ],
      "metadata": {
        "id": "ncz7e3RPfaQn"
      }
    },
    {
      "cell_type": "code",
      "source": [
        "def preprocess_dataset(image, mask):\n",
        "\n",
        "    image = tf.cast(image, dtype='float32')\n",
        "    image /= 255\n",
        "    image = tf.expand_dims(image, axis=-1)\n",
        "\n",
        "    mask = tf.cast(mask, dtype='int32')\n",
        "\n",
        "    return image, mask\n",
        "\n",
        "\n",
        "def create_datasets(images_dir, segmentation_dir):\n",
        "\n",
        "    images = np.load(images_dir)\n",
        "    segmentation = np.load(segmentation_dir)\n",
        "\n",
        "    print(f\"Images shape: {images.shape}\\nSegmentation shape: {segmentation.shape}\")\n",
        "\n",
        "    train_img, val_img, train_seg, val_seg = train_test_split(images, segmentation, test_size=0.2, shuffle=True)\n",
        "    val_img, test_img, val_seg, test_seg = train_test_split(val_img, val_seg, test_size=0.2, shuffle=True)\n",
        "\n",
        "    print(f'\\nDatasets size:\\nTrain: {train_img.shape[0]}\\tTest: {test_img.shape[0]}\\tVal: {val_img.shape[0]}')\n",
        "\n",
        "    train_dataset = tf.data.Dataset.from_tensor_slices((train_img, train_seg)).shuffle(512).batch(BATCH_SIZE)\n",
        "    test_dataset = tf.data.Dataset.from_tensor_slices((test_img, test_seg)).shuffle(512).batch(BATCH_SIZE, drop_remainder=True)\n",
        "    val_dataset = tf.data.Dataset.from_tensor_slices((val_img, val_seg)).shuffle(512).batch(BATCH_SIZE)\n",
        "\n",
        "    train_dataset = train_dataset.map(preprocess_dataset)\n",
        "    test_dataset = test_dataset.map(preprocess_dataset)\n",
        "    val_dataset = val_dataset.map(preprocess_dataset)\n",
        "\n",
        "    return train_dataset, test_dataset, val_dataset"
      ],
      "metadata": {
        "id": "6fMfPwYCfdE7"
      },
      "execution_count": 4,
      "outputs": []
    },
    {
      "cell_type": "markdown",
      "source": [
        "### 1.3 Create the train, test and validation datasets"
      ],
      "metadata": {
        "id": "UJbKBY0tyZzX"
      }
    },
    {
      "cell_type": "code",
      "source": [
        "IMAGES_DIR = f'{DATASET_DIR}/combined.npy'\n",
        "SEGMENTATION_DIR = f'{DATASET_DIR}/segmented.npy'\n",
        "CLASSES_AMOUNT = 11\n",
        "BATCH_SIZE = 32\n",
        "\n",
        "print(f\"Loading dataset...\\nNumber of classes: {CLASSES_AMOUNT}\\n\")\n",
        "\n",
        "train_dataset, test_dataset, val_dataset = create_datasets(IMAGES_DIR, SEGMENTATION_DIR)"
      ],
      "metadata": {
        "colab": {
          "base_uri": "https://localhost:8080/"
        },
        "id": "3_-ESCgOyhdw",
        "outputId": "801ddcde-ffcb-48b8-ea3d-0c080c58aed6"
      },
      "execution_count": 5,
      "outputs": [
        {
          "output_type": "stream",
          "name": "stdout",
          "text": [
            "Loading dataset...\n",
            "Number of classes: 11\n",
            "\n",
            "Images shape: (5000, 64, 84)\n",
            "Segmentation shape: (5000, 64, 84, 11)\n",
            "\n",
            "Datasets size:\n",
            "Train: 4000\tTest: 200\tVal: 800\n"
          ]
        }
      ]
    },
    {
      "cell_type": "markdown",
      "source": [
        "### 1.4 Preview sample images"
      ],
      "metadata": {
        "id": "WntNZPGolC1C"
      }
    },
    {
      "cell_type": "code",
      "source": [
        "colors = [tuple(np.random.randint(256, size=3) / 255.0) for i in range(CLASSES_AMOUNT)]\n",
        "\n",
        "def convert_mask_to_image(mask):\n",
        "\n",
        "    seg_img = np.zeros( (mask.shape[0],mask.shape[1], 3) ).astype('float')\n",
        "\n",
        "    for c in range(CLASSES_AMOUNT):\n",
        "        segc = (mask == c)\n",
        "        seg_img[:,:,0] += segc*( colors[c][0] * 255.0)\n",
        "        seg_img[:,:,1] += segc*( colors[c][1] * 255.0)\n",
        "        seg_img[:,:,2] += segc*( colors[c][2] * 255.0)\n",
        "\n",
        "    return seg_img.astype('uint8')\n",
        "\n",
        "\n",
        "def preview_dataset(dataset, amount):\n",
        "\n",
        "    cols = 4\n",
        "    rows = 2\n",
        "\n",
        "    fig, axs = plt.subplots(nrows=rows * 2, ncols=cols, figsize=(10, 8))\n",
        "\n",
        "    for i, data in enumerate(dataset.take(amount)):\n",
        "        image, mask = data\n",
        "        merged_mask = np.argmax(mask, axis=3)\n",
        "        merged_mask = convert_mask_to_image(merged_mask[0])\n",
        "\n",
        "        img_index = (i*2)\n",
        "        seg_index = img_index + 1\n",
        "\n",
        "        axs[img_index // cols, img_index % cols].imshow(image[0], cmap='gray')\n",
        "        axs[img_index // cols, img_index % cols].axis('off')\n",
        "\n",
        "        axs[seg_index // cols, seg_index % cols].imshow(merged_mask)\n",
        "        axs[seg_index // cols, seg_index % cols].axis('off')\n",
        "\n",
        "    fig.tight_layout()\n",
        "    fig.show()\n",
        "\n",
        "\n",
        "preview_dataset(train_dataset, amount=8)"
      ],
      "metadata": {
        "colab": {
          "base_uri": "https://localhost:8080/",
          "height": 678
        },
        "id": "9l670PHwlIp6",
        "outputId": "dedef550-a95a-460c-fe42-b9c721de0715"
      },
      "execution_count": 6,
      "outputs": [
        {
          "output_type": "display_data",
          "data": {
            "text/plain": [
              "<Figure size 1000x800 with 16 Axes>"
            ],
            "image/png": "[encoded data removed]"
          },
          "metadata": {}
        }
      ]
    },
    {
      "cell_type": "markdown",
      "source": [
        "## 2. FCN"
      ],
      "metadata": {
        "id": "od3N4x6mXVCE"
      }
    },
    {
      "cell_type": "markdown",
      "source": [
        "### 2.1 Downsampling path"
      ],
      "metadata": {
        "id": "43szluksZqgp"
      }
    },
    {
      "cell_type": "markdown",
      "source": [
        "**Convolutional block**"
      ],
      "metadata": {
        "id": "UIjyOmtJHsdp"
      }
    },
    {
      "cell_type": "code",
      "source": [
        "IMAGE_ORDERING = 'channels_last'\n",
        "\n",
        "def conv_block(input, filters, kernel_size, pooling_size, pool_strides, index):\n",
        "    x = tf.keras.layers.Conv2D(filters, kernel_size, padding='same', data_format=IMAGE_ORDERING)(input)\n",
        "    x = tf.keras.layers.LeakyReLU()(x)\n",
        "    x = tf.keras.layers.Conv2D(filters, kernel_size, padding='same', data_format=IMAGE_ORDERING)(x)\n",
        "    x = tf.keras.layers.LeakyReLU()(x)\n",
        "    x = tf.keras.layers.MaxPooling2D(pooling_size)(x)\n",
        "    x = tf.keras.layers.BatchNormalization(name=f\"END_OF_CONVBLOCK_{index}\")(x)\n",
        "\n",
        "    return x"
      ],
      "metadata": {
        "id": "hyvlDbajHuBi"
      },
      "execution_count": 7,
      "outputs": []
    },
    {
      "cell_type": "code",
      "source": [
        "def FCN8(input_height=64, input_width=84):\n",
        "    img_input = tf.keras.layers.Input(shape=(input_height,input_width, 1))\n",
        "\n",
        "    x = tf.keras.layers.ZeroPadding2D(((0, 0), (0, 96-input_width)))(img_input)\n",
        "\n",
        "    x = conv_block(x, filters=32,   kernel_size=3,  pooling_size=2, pool_strides=2, index=1)\n",
        "    x = conv_block(x, filters=64,   kernel_size=3,  pooling_size=2, pool_strides=2, index=2)\n",
        "    x = conv_block(x, filters=128,  kernel_size=3,  pooling_size=2, pool_strides=2, index=3)\n",
        "    f3 = x\n",
        "\n",
        "    x = conv_block(x, filters=256,  kernel_size=3,  pooling_size=2, pool_strides=2, index=4)\n",
        "    f4 = x\n",
        "\n",
        "    x = conv_block(x, filters=256,  kernel_size=3,  pooling_size=2, pool_strides=2, index=5)\n",
        "    f5 = x\n",
        "  \n",
        "    return (f3, f4, f5), img_input"
      ],
      "metadata": {
        "id": "8GWuGajNZtFV"
      },
      "execution_count": 8,
      "outputs": []
    },
    {
      "cell_type": "markdown",
      "source": [
        "### 2.2 Upsampling path"
      ],
      "metadata": {
        "id": "_WO4B3kSZtjS"
      }
    },
    {
      "cell_type": "code",
      "source": [
        "def FCN8_decoder(convs, n_classes):\n",
        "    f3, f4, f5 = convs\n",
        "    n = 512\n",
        "\n",
        "    x = tf.keras.layers.Conv2D(\n",
        "        n, \n",
        "        (7,7), \n",
        "        activation='relu', \n",
        "        padding='same', \n",
        "        name=\"conv6\", \n",
        "        data_format=IMAGE_ORDERING\n",
        "    )(f5)\n",
        "\n",
        "    x = tf.keras.layers.Dropout(0.5)(x)\n",
        "\n",
        "    x = tf.keras.layers.Conv2D(\n",
        "        n, \n",
        "        (1, 1),\n",
        "        activation='relu',\n",
        "        padding='same', \n",
        "        name=\"conv7\", \n",
        "        data_format=IMAGE_ORDERING\n",
        "    )(x)\n",
        "\n",
        "    x = tf.keras.layers.Dropout(0.5)(x)\n",
        "\n",
        "    x = tf.keras.layers.Conv2D(\n",
        "        n_classes,  \n",
        "        (1, 1), \n",
        "        activation='relu', \n",
        "        padding='same', \n",
        "        data_format=IMAGE_ORDERING\n",
        "    )(x)\n",
        "\n",
        "    x = tf.keras.layers.Conv2DTranspose(\n",
        "        n_classes, \n",
        "        kernel_size=(4,4),  \n",
        "        strides=(2,2), \n",
        "        data_format=IMAGE_ORDERING,\n",
        "        use_bias=False\n",
        "    )(f5)\n",
        "\n",
        "    x = tf.keras.layers.Cropping2D(cropping=(1,1))(x)\n",
        "\n",
        "    x2 = f4\n",
        "    x2 = tf.keras.layers.Conv2D(\n",
        "        n_classes, \n",
        "        (1, 1), \n",
        "        activation='relu', \n",
        "        padding='same',\n",
        "        data_format=IMAGE_ORDERING,\n",
        "    )(x2)\n",
        "\n",
        "    x = tf.keras.layers.Add()([x, x2])\n",
        "\n",
        "    x = tf.keras.layers.Conv2DTranspose(\n",
        "        n_classes, \n",
        "        kernel_size=(4,4),  \n",
        "        strides=(2,2), \n",
        "        data_format=IMAGE_ORDERING,\n",
        "        use_bias=False\n",
        "    )(x)\n",
        "    x = tf.keras.layers.Cropping2D(cropping=(1, 1))(x)\n",
        "\n",
        "    x2 = f3\n",
        "    x2 = tf.keras.layers.Conv2D(\n",
        "        n_classes,\n",
        "        (1, 1), \n",
        "        activation='relu', \n",
        "        padding='same', \n",
        "        data_format=IMAGE_ORDERING\n",
        "    )(x2)\n",
        "\n",
        "    x = tf.keras.layers.Add()([x, x2])\n",
        "\n",
        "    x = tf.keras.layers.Conv2DTranspose(\n",
        "        n_classes, \n",
        "        kernel_size=(8,8),  \n",
        "        strides=(8,8), \n",
        "        data_format=IMAGE_ORDERING,\n",
        "        use_bias=False\n",
        "    )(x)\n",
        "\n",
        "    x = tf.keras.layers.Cropping2D(((0, 0), (0, 96-84)))(x)\n",
        "\n",
        "    y = (tf.keras.layers.Activation('sigmoid'))(x)\n",
        "\n",
        "    return y\n"
      ],
      "metadata": {
        "id": "ZqLHaL12ZzyM"
      },
      "execution_count": 9,
      "outputs": []
    },
    {
      "cell_type": "markdown",
      "source": [
        "### 2.3 Complete model"
      ],
      "metadata": {
        "id": "xwwb9QY1aEDq"
      }
    },
    {
      "cell_type": "code",
      "source": [
        "convs, img_input = FCN8()\n",
        "\n",
        "decoder = FCN8_decoder(convs, CLASSES_AMOUNT)\n",
        "\n",
        "model = tf.keras.Model(inputs=img_input, outputs=decoder)\n",
        "\n",
        "model.summary()"
      ],
      "metadata": {
        "colab": {
          "base_uri": "https://localhost:8080/"
        },
        "id": "09QVXmW8aG6R",
        "outputId": "bec69cf9-2cb3-47f4-dfaf-de5eb5a304fe"
      },
      "execution_count": 10,
      "outputs": [
        {
          "output_type": "stream",
          "name": "stdout",
          "text": [
            "Model: \"model\"\n",
            "__________________________________________________________________________________________________\n",
            " Layer (type)                   Output Shape         Param #     Connected to                     \n",
            "==================================================================================================\n",
            " input_1 (InputLayer)           [(None, 64, 84, 1)]  0           []                               \n",
            "                                                                                                  \n",
            " zero_padding2d (ZeroPadding2D)  (None, 64, 96, 1)   0           ['input_1[0][0]']                \n",
            "                                                                                                  \n",
            " conv2d (Conv2D)                (None, 64, 96, 32)   320         ['zero_padding2d[0][0]']         \n",
            "                                                                                                  \n",
            " leaky_re_lu (LeakyReLU)        (None, 64, 96, 32)   0           ['conv2d[0][0]']                 \n",
            "                                                                                                  \n",
            " conv2d_1 (Conv2D)              (None, 64, 96, 32)   9248        ['leaky_re_lu[0][0]']            \n",
            "                                                                                                  \n",
            " leaky_re_lu_1 (LeakyReLU)      (None, 64, 96, 32)   0           ['conv2d_1[0][0]']               \n",
            "                                                                                                  \n",
            " max_pooling2d (MaxPooling2D)   (None, 32, 48, 32)   0           ['leaky_re_lu_1[0][0]']          \n",
            "                                                                                                  \n",
            " END_OF_CONVBLOCK_1 (BatchNorma  (None, 32, 48, 32)  128         ['max_pooling2d[0][0]']          \n",
            " lization)                                                                                        \n",
            "                                                                                                  \n",
            " conv2d_2 (Conv2D)              (None, 32, 48, 64)   18496       ['END_OF_CONVBLOCK_1[0][0]']     \n",
            "                                                                                                  \n",
            " leaky_re_lu_2 (LeakyReLU)      (None, 32, 48, 64)   0           ['conv2d_2[0][0]']               \n",
            "                                                                                                  \n",
            " conv2d_3 (Conv2D)              (None, 32, 48, 64)   36928       ['leaky_re_lu_2[0][0]']          \n",
            "                                                                                                  \n",
            " leaky_re_lu_3 (LeakyReLU)      (None, 32, 48, 64)   0           ['conv2d_3[0][0]']               \n",
            "                                                                                                  \n",
            " max_pooling2d_1 (MaxPooling2D)  (None, 16, 24, 64)  0           ['leaky_re_lu_3[0][0]']          \n",
            "                                                                                                  \n",
            " END_OF_CONVBLOCK_2 (BatchNorma  (None, 16, 24, 64)  256         ['max_pooling2d_1[0][0]']        \n",
            " lization)                                                                                        \n",
            "                                                                                                  \n",
            " conv2d_4 (Conv2D)              (None, 16, 24, 128)  73856       ['END_OF_CONVBLOCK_2[0][0]']     \n",
            "                                                                                                  \n",
            " leaky_re_lu_4 (LeakyReLU)      (None, 16, 24, 128)  0           ['conv2d_4[0][0]']               \n",
            "                                                                                                  \n",
            " conv2d_5 (Conv2D)              (None, 16, 24, 128)  147584      ['leaky_re_lu_4[0][0]']          \n",
            "                                                                                                  \n",
            " leaky_re_lu_5 (LeakyReLU)      (None, 16, 24, 128)  0           ['conv2d_5[0][0]']               \n",
            "                                                                                                  \n",
            " max_pooling2d_2 (MaxPooling2D)  (None, 8, 12, 128)  0           ['leaky_re_lu_5[0][0]']          \n",
            "                                                                                                  \n",
            " END_OF_CONVBLOCK_3 (BatchNorma  (None, 8, 12, 128)  512         ['max_pooling2d_2[0][0]']        \n",
            " lization)                                                                                        \n",
            "                                                                                                  \n",
            " conv2d_6 (Conv2D)              (None, 8, 12, 256)   295168      ['END_OF_CONVBLOCK_3[0][0]']     \n",
            "                                                                                                  \n",
            " leaky_re_lu_6 (LeakyReLU)      (None, 8, 12, 256)   0           ['conv2d_6[0][0]']               \n",
            "                                                                                                  \n",
            " conv2d_7 (Conv2D)              (None, 8, 12, 256)   590080      ['leaky_re_lu_6[0][0]']          \n",
            "                                                                                                  \n",
            " leaky_re_lu_7 (LeakyReLU)      (None, 8, 12, 256)   0           ['conv2d_7[0][0]']               \n",
            "                                                                                                  \n",
            " max_pooling2d_3 (MaxPooling2D)  (None, 4, 6, 256)   0           ['leaky_re_lu_7[0][0]']          \n",
            "                                                                                                  \n",
            " END_OF_CONVBLOCK_4 (BatchNorma  (None, 4, 6, 256)   1024        ['max_pooling2d_3[0][0]']        \n",
            " lization)                                                                                        \n",
            "                                                                                                  \n",
            " conv2d_8 (Conv2D)              (None, 4, 6, 256)    590080      ['END_OF_CONVBLOCK_4[0][0]']     \n",
            "                                                                                                  \n",
            " leaky_re_lu_8 (LeakyReLU)      (None, 4, 6, 256)    0           ['conv2d_8[0][0]']               \n",
            "                                                                                                  \n",
            " conv2d_9 (Conv2D)              (None, 4, 6, 256)    590080      ['leaky_re_lu_8[0][0]']          \n",
            "                                                                                                  \n",
            " leaky_re_lu_9 (LeakyReLU)      (None, 4, 6, 256)    0           ['conv2d_9[0][0]']               \n",
            "                                                                                                  \n",
            " max_pooling2d_4 (MaxPooling2D)  (None, 2, 3, 256)   0           ['leaky_re_lu_9[0][0]']          \n",
            "                                                                                                  \n",
            " END_OF_CONVBLOCK_5 (BatchNorma  (None, 2, 3, 256)   1024        ['max_pooling2d_4[0][0]']        \n",
            " lization)                                                                                        \n",
            "                                                                                                  \n",
            " conv2d_transpose (Conv2DTransp  (None, 6, 8, 11)    45056       ['END_OF_CONVBLOCK_5[0][0]']     \n",
            " ose)                                                                                             \n",
            "                                                                                                  \n",
            " cropping2d (Cropping2D)        (None, 4, 6, 11)     0           ['conv2d_transpose[0][0]']       \n",
            "                                                                                                  \n",
            " conv2d_11 (Conv2D)             (None, 4, 6, 11)     2827        ['END_OF_CONVBLOCK_4[0][0]']     \n",
            "                                                                                                  \n",
            " add (Add)                      (None, 4, 6, 11)     0           ['cropping2d[0][0]',             \n",
            "                                                                  'conv2d_11[0][0]']              \n",
            "                                                                                                  \n",
            " conv2d_transpose_1 (Conv2DTran  (None, 10, 14, 11)  1936        ['add[0][0]']                    \n",
            " spose)                                                                                           \n",
            "                                                                                                  \n",
            " cropping2d_1 (Cropping2D)      (None, 8, 12, 11)    0           ['conv2d_transpose_1[0][0]']     \n",
            "                                                                                                  \n",
            " conv2d_12 (Conv2D)             (None, 8, 12, 11)    1419        ['END_OF_CONVBLOCK_3[0][0]']     \n",
            "                                                                                                  \n",
            " add_1 (Add)                    (None, 8, 12, 11)    0           ['cropping2d_1[0][0]',           \n",
            "                                                                  'conv2d_12[0][0]']              \n",
            "                                                                                                  \n",
            " conv2d_transpose_2 (Conv2DTran  (None, 64, 96, 11)  7744        ['add_1[0][0]']                  \n",
            " spose)                                                                                           \n",
            "                                                                                                  \n",
            " cropping2d_2 (Cropping2D)      (None, 64, 84, 11)   0           ['conv2d_transpose_2[0][0]']     \n",
            "                                                                                                  \n",
            " activation (Activation)        (None, 64, 84, 11)   0           ['cropping2d_2[0][0]']           \n",
            "                                                                                                  \n",
            "==================================================================================================\n",
            "Total params: 2,413,766\n",
            "Trainable params: 2,412,294\n",
            "Non-trainable params: 1,472\n",
            "__________________________________________________________________________________________________\n"
          ]
        }
      ]
    },
    {
      "cell_type": "markdown",
      "source": [
        "## 3. Train model"
      ],
      "metadata": {
        "id": "WRs0O_vxaS4-"
      }
    },
    {
      "cell_type": "markdown",
      "source": [
        "### 3.1 Compile the model"
      ],
      "metadata": {
        "id": "l6PemCQ6SoNw"
      }
    },
    {
      "cell_type": "code",
      "source": [
        "model.compile(\n",
        "    loss='categorical_crossentropy', \n",
        "    optimizer='adam', \n",
        "    metrics=['accuracy']\n",
        ")"
      ],
      "metadata": {
        "id": "dLAZtdB8Scs-"
      },
      "execution_count": 11,
      "outputs": []
    },
    {
      "cell_type": "markdown",
      "source": [
        "### 3.2 Train the model"
      ],
      "metadata": {
        "id": "OSfGwUgWS8SK"
      }
    },
    {
      "cell_type": "code",
      "source": [
        "EPOCHS = 20\n",
        "\n",
        "early_stopping = tf.keras.callbacks.EarlyStopping(monitor='val_accuracy', patience=5)\n",
        "\n",
        "history = model.fit(train_dataset, batch_size=BATCH_SIZE, epochs=EPOCHS, validation_data=val_dataset, callbacks=[early_stopping])\n",
        "\n"
      ],
      "metadata": {
        "colab": {
          "base_uri": "https://localhost:8080/"
        },
        "id": "0ziCfuSeTB4x",
        "outputId": "19d7278c-a2bf-4af7-f8d6-40156142e23d"
      },
      "execution_count": 12,
      "outputs": [
        {
          "output_type": "stream",
          "name": "stdout",
          "text": [
            "Epoch 1/20\n",
            "125/125 [==============================] - 23s 41ms/step - loss: 0.5276 - accuracy: 0.8552 - val_loss: 0.6171 - val_accuracy: 0.9417\n",
            "Epoch 2/20\n",
            "125/125 [==============================] - 4s 35ms/step - loss: 0.2134 - accuracy: 0.9427 - val_loss: 0.3210 - val_accuracy: 0.9417\n",
            "Epoch 3/20\n",
            "125/125 [==============================] - 4s 32ms/step - loss: 0.1908 - accuracy: 0.9438 - val_loss: 0.3057 - val_accuracy: 0.9417\n",
            "Epoch 4/20\n",
            "125/125 [==============================] - 4s 33ms/step - loss: 0.1499 - accuracy: 0.9501 - val_loss: 0.2244 - val_accuracy: 0.9425\n",
            "Epoch 5/20\n",
            "125/125 [==============================] - 5s 38ms/step - loss: 0.1051 - accuracy: 0.9625 - val_loss: 0.0980 - val_accuracy: 0.9632\n",
            "Epoch 6/20\n",
            "125/125 [==============================] - 4s 31ms/step - loss: 0.0779 - accuracy: 0.9708 - val_loss: 0.0840 - val_accuracy: 0.9681\n",
            "Epoch 7/20\n",
            "125/125 [==============================] - 6s 46ms/step - loss: 0.0651 - accuracy: 0.9747 - val_loss: 0.0641 - val_accuracy: 0.9749\n",
            "Epoch 8/20\n",
            "125/125 [==============================] - 4s 32ms/step - loss: 0.0567 - accuracy: 0.9774 - val_loss: 0.0715 - val_accuracy: 0.9756\n",
            "Epoch 9/20\n",
            "125/125 [==============================] - 4s 31ms/step - loss: 0.0509 - accuracy: 0.9796 - val_loss: 0.0547 - val_accuracy: 0.9788\n",
            "Epoch 10/20\n",
            "125/125 [==============================] - 4s 34ms/step - loss: 0.0478 - accuracy: 0.9807 - val_loss: 0.0551 - val_accuracy: 0.9786\n",
            "Epoch 11/20\n",
            "125/125 [==============================] - 4s 31ms/step - loss: 0.0429 - accuracy: 0.9827 - val_loss: 0.0550 - val_accuracy: 0.9797\n",
            "Epoch 12/20\n",
            "125/125 [==============================] - 4s 31ms/step - loss: 0.0396 - accuracy: 0.9839 - val_loss: 0.0502 - val_accuracy: 0.9808\n",
            "Epoch 13/20\n",
            "125/125 [==============================] - 5s 37ms/step - loss: 0.0378 - accuracy: 0.9847 - val_loss: 0.0501 - val_accuracy: 0.9813\n",
            "Epoch 14/20\n",
            "125/125 [==============================] - 4s 31ms/step - loss: 0.0395 - accuracy: 0.9842 - val_loss: 0.0541 - val_accuracy: 0.9803\n",
            "Epoch 15/20\n",
            "125/125 [==============================] - 4s 34ms/step - loss: 0.0351 - accuracy: 0.9858 - val_loss: 0.0429 - val_accuracy: 0.9840\n",
            "Epoch 16/20\n",
            "125/125 [==============================] - 4s 35ms/step - loss: 0.0325 - accuracy: 0.9869 - val_loss: 0.0398 - val_accuracy: 0.9848\n",
            "Epoch 17/20\n",
            "125/125 [==============================] - 4s 31ms/step - loss: 0.0323 - accuracy: 0.9870 - val_loss: 0.0394 - val_accuracy: 0.9852\n",
            "Epoch 18/20\n",
            "125/125 [==============================] - 4s 31ms/step - loss: 0.0297 - accuracy: 0.9880 - val_loss: 0.0367 - val_accuracy: 0.9859\n",
            "Epoch 19/20\n",
            "125/125 [==============================] - 4s 32ms/step - loss: 0.0280 - accuracy: 0.9887 - val_loss: 0.0350 - val_accuracy: 0.9865\n",
            "Epoch 20/20\n",
            "125/125 [==============================] - 4s 31ms/step - loss: 0.0275 - accuracy: 0.9890 - val_loss: 0.0404 - val_accuracy: 0.9848\n"
          ]
        }
      ]
    },
    {
      "cell_type": "markdown",
      "source": [
        "### 3.3 Display accuracy and loss plot"
      ],
      "metadata": {
        "id": "kGi9NII4WVfv"
      }
    },
    {
      "cell_type": "code",
      "source": [
        "plt.title(\"Model accuracy\")\n",
        "plt.plot(history.history[\"accuracy\"])\n",
        "plt.plot(history.history[\"val_accuracy\"])\n",
        "plt.legend([\"train\", \"Val\"], loc=\"upper left\")\n",
        "plt.ylabel(\"Accuracy\")\n",
        "plt.xlabel(\"Epoch\")\n",
        "plt.show()\n",
        "\n",
        "plt.title(\"Model loss\")\n",
        "plt.plot(history.history[\"loss\"])\n",
        "plt.plot(history.history[\"val_loss\"])\n",
        "plt.legend([\"train\", \"Val\"], loc=\"upper right\")\n",
        "plt.ylabel(\"Loss\")\n",
        "plt.xlabel(\"Epoch\")\n",
        "plt.show()"
      ],
      "metadata": {
        "colab": {
          "base_uri": "https://localhost:8080/",
          "height": 927
        },
        "id": "o7ZGhNTnWj3k",
        "outputId": "a65e75a0-1580-46cf-cd1a-11d1a6a3076d"
      },
      "execution_count": 13,
      "outputs": [
        {
          "output_type": "display_data",
          "data": {
            "text/plain": [
              "<Figure size 640x480 with 1 Axes>"
            ],
            "image/png": "[encoded data removed]"
          },
          "metadata": {}
        },
        {
          "output_type": "display_data",
          "data": {
            "text/plain": [
              "<Figure size 640x480 with 1 Axes>"
            ],
            "image/png": "[encoded data removed]"
          },
          "metadata": {}
        }
      ]
    },
    {
      "cell_type": "markdown",
      "source": [
        "## 4. Evaluation"
      ],
      "metadata": {
        "id": "TzoDGzQHaW4N"
      }
    },
    {
      "cell_type": "markdown",
      "source": [
        "### 4.1 Get the predictions"
      ],
      "metadata": {
        "id": "aiTK5epTaG2X"
      }
    },
    {
      "cell_type": "code",
      "source": [
        "results = model.predict(test_dataset)\n",
        "print(results.shape)\n",
        "\n",
        "print(results[0,0,0,0])\n",
        "print(results[0,0,0,10])"
      ],
      "metadata": {
        "colab": {
          "base_uri": "https://localhost:8080/"
        },
        "id": "x2RZKfauZ91I",
        "outputId": "8d6008a9-91a2-4755-dd51-5721bbc01cb7"
      },
      "execution_count": 14,
      "outputs": [
        {
          "output_type": "stream",
          "name": "stdout",
          "text": [
            "6/6 [==============================] - 0s 11ms/step\n",
            "(192, 64, 84, 11)\n",
            "0.008147881\n",
            "0.998262\n"
          ]
        }
      ]
    },
    {
      "cell_type": "markdown",
      "source": [
        "### 4.2 Get the argmax of segmentation masks\n"
      ],
      "metadata": {
        "id": "SsWmAFcHaO3m"
      }
    },
    {
      "cell_type": "code",
      "source": [
        "results = np.argmax(results, axis=3)\n",
        "print(results.shape)\n",
        "\n",
        "print(results[0,0,0])\n",
        "\n",
        "# prediction map for image 0\n",
        "print(results[0,:,:])"
      ],
      "metadata": {
        "colab": {
          "base_uri": "https://localhost:8080/"
        },
        "id": "51NwPqtJaakL",
        "outputId": "0796382f-2905-4952-a42b-ec84fa22689d"
      },
      "execution_count": 15,
      "outputs": [
        {
          "output_type": "stream",
          "name": "stdout",
          "text": [
            "(192, 64, 84)\n",
            "10\n",
            "[[10 10 10 ... 10 10 10]\n",
            " [10 10 10 ... 10 10 10]\n",
            " [10 10 10 ... 10 10 10]\n",
            " ...\n",
            " [10 10 10 ... 10 10 10]\n",
            " [10 10 10 ... 10 10 10]\n",
            " [10 10 10 ... 10 10 10]]\n"
          ]
        }
      ]
    },
    {
      "cell_type": "markdown",
      "source": [
        "### 4.3 Visualize predictions"
      ],
      "metadata": {
        "id": "_qJRHLnwcwBp"
      }
    },
    {
      "cell_type": "code",
      "source": [
        "def visualize_prediction(image, y_true, y_pred):\n",
        "    fig, axs = plt.subplots(1,3, figsize=(9,3))\n",
        "    axs[0].imshow(image)\n",
        "    axs[0].axis('off')\n",
        "    axs[1].imshow(y_true)\n",
        "    axs[1].axis('off')\n",
        "    axs[2].imshow(y_pred)\n",
        "    axs[2].axis('off')\n",
        "    fig.show()"
      ],
      "metadata": {
        "id": "p6wNk2E-cyw3"
      },
      "execution_count": 16,
      "outputs": []
    },
    {
      "cell_type": "code",
      "source": [
        "def class_wise_metrics(y_true, y_pred):\n",
        "\n",
        "    class_wise_iou = []\n",
        "    class_wise_dice_score = []\n",
        "\n",
        "    smoothing_factor = 0.00001\n",
        "\n",
        "    for i in range(11):\n",
        "        intersection = np.sum((y_pred == i) * (y_true == i))\n",
        "        y_true_area = np.sum((y_true == i))\n",
        "        y_pred_area = np.sum((y_pred == i))\n",
        "        combined_area = y_true_area + y_pred_area\n",
        "\n",
        "        iou = (intersection) / (combined_area - intersection + smoothing_factor)\n",
        "        class_wise_iou.append(iou)\n",
        "\n",
        "        dice_score =  2 * ((intersection) / (combined_area + smoothing_factor))\n",
        "        class_wise_dice_score.append(dice_score)\n",
        "\n",
        "    return class_wise_iou, class_wise_dice_score"
      ],
      "metadata": {
        "id": "kyAAidqHsjTg"
      },
      "execution_count": 17,
      "outputs": []
    },
    {
      "cell_type": "code",
      "source": [
        "# unbatched_test = test_dataset.unbatch()\n",
        "# unbatched_test = unbatched_test.batch(200)\n",
        "\n",
        "# samples_amount = 10\n",
        "\n",
        "# for img, mask in unbatched_test.take(5):\n",
        "#     mask = np.argmax(mask, axis=2)\n",
        "#     pred = model.predict(np.expand_dims(img, axis=0)) \n",
        "#     pred = np.argmax(pred, axis=3)\n",
        "\n",
        "#     iou, dice_score = class_wise_metrics(mask, pred)  \n",
        "\n",
        "#     mask = np.squeeze(mask)\n",
        "#     pred = np.squeeze(pred)\n",
        "    \n",
        "#     for index in range(11-1):\n",
        "#         if iou[index] != 0:\n",
        "#             print(f'Digit {index} - IOU: {iou[index]:.4f}\\tDice score: {dice_score[index]:.4f}')\n",
        "            \n",
        "#     visualize_prediction(img, convert_mask_to_image(mask), convert_mask_to_image(pred))\n",
        "#     plt.pause(0.1)\n",
        "\n",
        "\n",
        "# place a number here between 0 to 191 to pick an image from the test set\n",
        "integer_slider = 155\n",
        "\n",
        "ds = test_dataset.unbatch()\n",
        "ds = ds.batch(200)\n",
        "images = []\n",
        "\n",
        "y_true_segments = []\n",
        "for image, annotation in ds.take(2):\n",
        "  y_true_segments = annotation\n",
        "  images = image\n",
        "  \n",
        "  \n",
        "iou, dice_score = class_wise_metrics(np.argmax(y_true_segments[integer_slider], axis=2), results[integer_slider])\n"
      ],
      "metadata": {
        "id": "Wve2DXeFddSc"
      },
      "execution_count": 18,
      "outputs": []
    },
    {
      "cell_type": "markdown",
      "source": [
        "### 4.3 Intersection over union and Dice score of the model"
      ],
      "metadata": {
        "id": "_zCkabsjajfN"
      }
    },
    {
      "cell_type": "code",
      "source": [
        "cls_wise_iou, cls_wise_dice_score = class_wise_metrics(np.argmax(y_true_segments, axis=3), results)\n",
        "\n",
        "average_iou = 0.0\n",
        "for idx, (iou, dice_score) in enumerate(zip(cls_wise_iou[:-1], cls_wise_dice_score[:-1])):\n",
        "  print(\"Digit {}: IOU: {} Dice Score: {}\".format(idx, iou, dice_score)) \n",
        "  average_iou += iou\n",
        "\n",
        "grade = average_iou * 10\n",
        "\n",
        "print(\"\\nGrade is \" + str(grade))\n",
        "\n",
        "PASSING_GRADE = 60\n",
        "if (grade>PASSING_GRADE):\n",
        "  print(\"You passed!\")\n",
        "else:\n",
        "  print(\"You failed. Please check your model and re-train\")\n",
        "\n",
        "\n",
        "# model_iou = []\n",
        "# model_dice_score = []\n",
        "\n",
        "# for image, mask in unbatched_test:\n",
        "#     model_iou, model_dice_score = class_wise_metrics(np.argmax(mask, axis=3), results)      \n",
        "\n",
        "# average_iou = 0.0\n",
        "# for idx, (iou, dice_score) in enumerate(zip(model_iou[:-1], model_dice_score[:-1])):\n",
        "#   print(\"Digit {}: IOU: {} Dice Score: {}\".format(idx, iou, dice_score)) \n",
        "#   average_iou += iou\n",
        "\n",
        "# grade = average_iou * 10\n",
        "\n",
        "# print(\"\\nGrade is \" + str(grade))\n",
        "\n",
        "# PASSING_GRADE = 60\n",
        "# if (grade>PASSING_GRADE):\n",
        "#   print(\"You passed!\")\n",
        "# else:\n",
        "#   print(\"You failed. Please check your model and re-train\")"
      ],
      "metadata": {
        "colab": {
          "base_uri": "https://localhost:8080/"
        },
        "id": "Ww1ZUhcOapqW",
        "outputId": "40c8f56f-b854-4309-b53a-1cc4cb419337"
      },
      "execution_count": 19,
      "outputs": [
        {
          "output_type": "stream",
          "name": "stdout",
          "text": [
            "Digit 0: IOU: 0.003248335225557629 Dice Score: 0.006475635416484026\n",
            "Digit 1: IOU: 0.008856199326244072 Dice Score: 0.01755691114780998\n",
            "Digit 2: IOU: 0.011200104179722534 Dice Score: 0.022152102503604804\n",
            "Digit 3: IOU: 0.003030303027520383 Dice Score: 0.0060422960669758346\n",
            "Digit 4: IOU: 0.005671942177594052 Dice Score: 0.011279905384080866\n",
            "Digit 5: IOU: 0.006366225493075703 Dice Score: 0.012651906099007902\n",
            "Digit 6: IOU: 0.006646695369175533 Dice Score: 0.013205617024825056\n",
            "Digit 7: IOU: 0.011765680659735123 Dice Score: 0.023257718431530818\n",
            "Digit 8: IOU: 0.011029059162722683 Dice Score: 0.021817491916318068\n",
            "Digit 9: IOU: 0.009966169872939409 Dice Score: 0.019735650896491354\n",
            "\n",
            "Grade is 0.7778071449428712\n",
            "You failed. Please check your model and re-train\n"
          ]
        }
      ]
    }
  ]
}